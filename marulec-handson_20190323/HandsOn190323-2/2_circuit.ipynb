{
 "cells": [
  {
   "cell_type": "markdown",
   "metadata": {},
   "source": [
    "<img src=\"./images/Logo1.png\" alt=\"Note: In order for images to show up in this jupyter notebook you need to select File => Trusted Notebook\" width=\"700 px\" align=\"center\">"
   ]
  },
  {
   "cell_type": "markdown",
   "metadata": {},
   "source": [
    "# 第二章　量子回路を構成する\n",
    "\n",
    "ここでは、基本的なゲートで量子回路を構成する方法について述べる。\n",
    "\n",
    "最初に確認したいのは、ゲート型の量子コンピュータで、量子コンピュータをプログラムするということは、基本的なゲートで量子回路を構成することである。量子アルゴリズムは、基本的には、量子ゲートからなる回路図で表現される。（以下、本ハンズオンでは、特に断りがない限り、「量子コンピュータ」という言葉を、「ゲート型の量子コンピュータ」の意味で用いている）\n",
    "\n",
    "我々が日常的に利用しているコンピュータでは、ハードウェアとソフトウェアの階層が分離していて、「コンピュータ・プログラミング」といえば、もっぱら、ソフトウェアのプログラミングを意味するのとは大きく異なっている。現時点では、量子プログラミングとは、ハードウェアのプログラミングと考えていい。それは、FPGAでの「プログラミング」と似ている。\n",
    "\n",
    "こうした現状は、量子コンピュータとその上でのプログラミング技法が、歴史的には、まだ誕生期にあることを意味している。\n",
    "\n",
    "\n",
    "**本章の内容**　　　　　[全体目次](./Contents.ipynb)\n",
    "\n",
    "- [基本的なゲートと回路の構成法について](#gates_basics)\n",
    "\n",
    "- [基本的なゲート一つからなる回路を構成する](#one_gates_basics)\n",
    "\n",
    "- [ゲートをSerialにつなげて回路を構成する](#serial_gates)\n",
    "\n",
    "- [ゲートをParallelに並べて回路を構成する](#parallel_gates)\n",
    "\n",
    "- [コントロール・ゲート回路を構成する](#control_gates)\n",
    "\n",
    "- [ゲートをSerial, Parallelに並べて回路を構成する](#serial_parallel_gates)\n",
    "\n",
    "- [演習問題](#exercises)"
   ]
  },
  {
   "cell_type": "markdown",
   "metadata": {},
   "source": [
    "\n",
    "\n",
    "## 基本的なゲートと回路の構成法について <a id='gates_basics'></a>\n",
    "\n",
    "#### 基本的なゲートには、次のようなものがある。それぞれのゲートの働きについては、次章で述べる。\n",
    "\n",
    "\n",
    "|ゲート名　|プログラム上の名前 |ゲートの記号|\n",
    "|:--|:--:|:--:|\n",
    "| Xゲート | 'x' |<img src=\"./images/circuit/X.jpg\"  width=\"100 px\" align=\"center\">|\n",
    "|Yゲート | 'y' |<img src=\"./images/circuit/Y.png\"  width=\"100 px\" align=\"center\">|\n",
    "|Zゲート | 'z' |<img src=\"./images/circuit/Z.png\"  width=\"100 px\" align=\"center\">|\n",
    "|Hゲート | 'h' |<img src=\"./images/circuit/H.png\"  width=\"100 px\" align=\"center\">|\n",
    "|CNOTゲート | 'cx' |<img src=\"./images/circuit/CNOT.png\"  width=\"100 px\" align=\"center\">|\n",
    "|Sゲート|'s'|<img src=\"./images/circuit/S.png\"  width=\"100 px\" align=\"center\">|\n",
    "|Tゲート|'t'|<img src=\"./images/circuit/T.png\"  width=\"100 px\" align=\"center\">|\n",
    "\n",
    "#### これらのゲートから回路を構成する方法は、基本的には、次の三つである。\n",
    "\n",
    "1. #### Serialな構成　あるゲートの出力を次のゲートの入力にserialに接続する\n",
    "1. #### Parallelな構成　あるゲートと別のゲートをparallelに構成する\n",
    "1. #### コントロールの構成 あるゲートの出力を、parallelに走る別のゲートのコントロールに使用する\n",
    "\n"
   ]
  },
  {
   "cell_type": "markdown",
   "metadata": {},
   "source": [
    "## 基本的なゲート一つからなる回路を構成する <a id='one_gates_basics'></a>\n",
    "\n",
    "\n",
    "### 基本的な量子ゲート $X$ 一つからなる回路を構成する"
   ]
  },
  {
   "cell_type": "markdown",
   "metadata": {},
   "source": [
    "**コードのインポート**"
   ]
  },
  {
   "cell_type": "code",
   "execution_count": 1,
   "metadata": {
    "ExecuteTime": {
     "end_time": "2018-09-29T00:04:16.313210Z",
     "start_time": "2018-09-29T00:04:14.460647Z"
    },
    "scrolled": true
   },
   "outputs": [],
   "source": [
    "%matplotlib inline\n",
    "%config InlineBackend.figure_formats = {'png', 'retina'}\n",
    "import numpy as np\n",
    "from qiskit import QuantumCircuit, ClassicalRegister, QuantumRegister\n",
    "from qiskit import execute"
   ]
  },
  {
   "cell_type": "markdown",
   "metadata": {},
   "source": [
    "<div class=\"alert alert-block alert-info\">\n",
    "\n",
    "### 回路構成の準備\n",
    "    \n",
    "#### 最初のプログラムに必要な要素は、QuantumRegisterとQuantumCircuit である。\n",
    "\n",
    "- **QuantumRegister** は、量子ビット(これを**qubit**と呼ぶ)に対応し、通常は、水平方向に左から右に走る。最初に適用されるゲートが、回路の一番左に来る\n",
    "- QuantumRegister qは、一つ一つのqubitに対応したレジスターの配列で、それぞれのqubitのレジスターは、q[0], q[1], q[2], ... で参照され、そのインデックスは、通常は、垂直方向に上から下に向かう。\n",
    "- n個のqubitからなるシステムは、n個のレジスターを持つQuantumRegister上に定義される。\n",
    "\n",
    "- **QuantumCircuit**は、QuantumRegisterとそれに作用する回路の全体である。\n",
    "</div>\n"
   ]
  },
  {
   "cell_type": "code",
   "execution_count": 2,
   "metadata": {
    "ExecuteTime": {
     "end_time": "2018-09-29T00:04:20.069592Z",
     "start_time": "2018-09-29T00:04:20.065489Z"
    }
   },
   "outputs": [],
   "source": [
    "# 1 qubitの量子レジスターを生成する\n",
    "q = QuantumRegister(1, 'q')\n",
    "\n",
    "# q レジスターに作用する量子回路を生成する\n",
    "circ = QuantumCircuit(q)"
   ]
  },
  {
   "cell_type": "markdown",
   "metadata": {},
   "source": [
    "<div class=\"alert alert-block alert-info\">\n",
    "\n",
    "### ゲートの追加\n",
    "\n",
    "いったん、レジスターを持つ回路を生成すると、レジスターを操作するゲート（演算）を追加することができる。\n",
    "\n",
    "**ゲートは回路に、追加順に左から右に一つづつ追加される。**\n",
    "</div>\n"
   ]
  },
  {
   "cell_type": "code",
   "execution_count": 3,
   "metadata": {
    "ExecuteTime": {
     "end_time": "2018-09-29T00:04:20.807281Z",
     "start_time": "2018-09-29T00:04:20.796420Z"
    }
   },
   "outputs": [
    {
     "data": {
      "text/plain": [
       "<qiskit.extensions.standard.x.XGate at 0x7f82682458d0>"
      ]
     },
     "execution_count": 3,
     "metadata": {},
     "output_type": "execute_result"
    }
   ],
   "source": [
    "# qubit 0 に X ゲートを追加する。\n",
    "circ.x(q[0])"
   ]
  },
  {
   "cell_type": "markdown",
   "metadata": {},
   "source": [
    "<div class=\"alert alert-block alert-info\">\n",
    "\n",
    "### 回路図を描く\n",
    "\n",
    "`QuantumCircuit.draw()`は、回路図を描画する。\n",
    "\n",
    "いくつかのオプションがある。\n",
    "- `circ.draw()` は、テキスト形式でcirc 回路の回路図を出力する\n",
    "- `circ.draw(output='mpl')`は、Matplotを使ってcirc 回路の回路図を出力する\n",
    "- `circ.draw(output='latex')`は、PDF形式でcirc 回路の回路図を出力する\n",
    "\n",
    "</div>"
   ]
  },
  {
   "cell_type": "code",
   "execution_count": 4,
   "metadata": {
    "ExecuteTime": {
     "end_time": "2018-09-29T00:04:26.904758Z",
     "start_time": "2018-09-29T00:04:25.509141Z"
    },
    "scrolled": true
   },
   "outputs": [
    {
     "data": {
      "image/png": "[encoded data removed]",
      "text/plain": [
       "<Figure size 240.8x78.26 with 1 Axes>"
      ]
     },
     "execution_count": 4,
     "metadata": {
      "image/png": {
       "height": 73,
       "width": 196
      }
     },
     "output_type": "execute_result"
    }
   ],
   "source": [
    "# テキスト形式で描画する\n",
    "#circ.draw()\n",
    "\n",
    "# Matplotlib で描画する\n",
    "circ.draw(output='mpl')\n",
    "\n",
    "# LaTex で描画する\n",
    "#circ.draw(output='latex')"
   ]
  },
  {
   "cell_type": "markdown",
   "metadata": {},
   "source": [
    "\n",
    "### 基本的な量子ゲート $Z$ 一つからなる回路を構成する\n"
   ]
  },
  {
   "cell_type": "code",
   "execution_count": 5,
   "metadata": {
    "ExecuteTime": {
     "end_time": "2018-09-29T00:04:26.904758Z",
     "start_time": "2018-09-29T00:04:25.509141Z"
    },
    "scrolled": true
   },
   "outputs": [
    {
     "data": {
      "image/png": "[encoded data removed]",
      "text/plain": [
       "<Figure size 240.8x78.26 with 1 Axes>"
      ]
     },
     "execution_count": 5,
     "metadata": {
      "image/png": {
       "height": 73,
       "width": 196
      }
     },
     "output_type": "execute_result"
    }
   ],
   "source": [
    "# 1 qubitの量子レジスターを生成する\n",
    "q = QuantumRegister(1, 'q')\n",
    "\n",
    "# q レジスターに作用する量子回路を生成する\n",
    "circ = QuantumCircuit(q)\n",
    "\n",
    "# qubit 0 に Z ゲートを追加する。\n",
    "circ.z(q[0])\n",
    "\n",
    "# Matplotlib で描画する\n",
    "circ.draw(output='mpl')"
   ]
  },
  {
   "cell_type": "markdown",
   "metadata": {},
   "source": [
    "\n",
    "### 基本的な量子ゲート $H$ 一つからなる回路を構成する\n"
   ]
  },
  {
   "cell_type": "code",
   "execution_count": 6,
   "metadata": {
    "ExecuteTime": {
     "end_time": "2018-09-29T00:04:26.904758Z",
     "start_time": "2018-09-29T00:04:25.509141Z"
    },
    "scrolled": true
   },
   "outputs": [
    {
     "data": {
      "image/png": "[encoded data removed]",
      "text/plain": [
       "<Figure size 240.8x78.26 with 1 Axes>"
      ]
     },
     "execution_count": 6,
     "metadata": {
      "image/png": {
       "height": 73,
       "width": 196
      }
     },
     "output_type": "execute_result"
    }
   ],
   "source": [
    "# 1 qubitの量子レジスターを生成する\n",
    "q = QuantumRegister(1, 'q')\n",
    "\n",
    "# q レジスターに作用する量子回路を生成する\n",
    "circ = QuantumCircuit(q)\n",
    "\n",
    "# qubit 0 に H ゲートを追加する。\n",
    "circ.h(q[0])\n",
    "\n",
    "# Matplotlib で描画する\n",
    "circ.draw(output='mpl')"
   ]
  },
  {
   "cell_type": "markdown",
   "metadata": {},
   "source": [
    "\n",
    "## ゲートをSerialにつなげて回路を構成する <a id='serial_gates'></a>\n"
   ]
  },
  {
   "cell_type": "markdown",
   "metadata": {},
   "source": [
    "### 量子ゲート $H$ を二つSerialにつなげて回路を構成する"
   ]
  },
  {
   "cell_type": "code",
   "execution_count": 7,
   "metadata": {
    "ExecuteTime": {
     "end_time": "2018-09-29T00:04:26.904758Z",
     "start_time": "2018-09-29T00:04:25.509141Z"
    },
    "scrolled": true
   },
   "outputs": [
    {
     "data": {
      "image/png": "[encoded data removed]",
      "text/plain": [
       "<Figure size 301x78.26 with 1 Axes>"
      ]
     },
     "execution_count": 7,
     "metadata": {
      "image/png": {
       "height": 73,
       "width": 241
      }
     },
     "output_type": "execute_result"
    }
   ],
   "source": [
    "# 1 qubitの量子レジスターを生成する\n",
    "q = QuantumRegister(1, 'q')\n",
    "\n",
    "# q レジスターに作用する量子回路を生成する\n",
    "circ = QuantumCircuit(q)\n",
    "\n",
    "# qubit 0 に H ゲートを追加する。\n",
    "circ.h(q[0])\n",
    "# qubit 0 に さらに、H ゲートを追加する。\n",
    "circ.h(q[0])\n",
    "\n",
    "# Matplotlib で描画する\n",
    "circ.draw(output='mpl')"
   ]
  },
  {
   "cell_type": "markdown",
   "metadata": {},
   "source": [
    "### 量子ゲート $Z$ と $X$ を二つSerialにつなげて回路を構成する"
   ]
  },
  {
   "cell_type": "code",
   "execution_count": 8,
   "metadata": {
    "ExecuteTime": {
     "end_time": "2018-09-29T00:04:26.904758Z",
     "start_time": "2018-09-29T00:04:25.509141Z"
    },
    "scrolled": true
   },
   "outputs": [
    {
     "data": {
      "image/png": "[encoded data removed]",
      "text/plain": [
       "<Figure size 301x78.26 with 1 Axes>"
      ]
     },
     "execution_count": 8,
     "metadata": {
      "image/png": {
       "height": 73,
       "width": 241
      }
     },
     "output_type": "execute_result"
    }
   ],
   "source": [
    "# 1 qubitの量子レジスターを生成する\n",
    "q = QuantumRegister(1, 'q')\n",
    "\n",
    "# q レジスターに作用する量子回路を生成する\n",
    "circ = QuantumCircuit(q)\n",
    "\n",
    "# qubit 0 に Z ゲートを追加する。\n",
    "circ.z(q[0])\n",
    "# qubit 0 に X ゲートを追加する。\n",
    "circ.x(q[0])\n",
    "\n",
    "# Matplotlib で描画する\n",
    "circ.draw(output='mpl')"
   ]
  },
  {
   "cell_type": "markdown",
   "metadata": {},
   "source": [
    "### 量子ゲート $Z$ と $S$ と $T$ を三つSerialにつなげて回路を構成する"
   ]
  },
  {
   "cell_type": "code",
   "execution_count": 9,
   "metadata": {
    "ExecuteTime": {
     "end_time": "2018-09-29T00:04:26.904758Z",
     "start_time": "2018-09-29T00:04:25.509141Z"
    },
    "scrolled": true
   },
   "outputs": [
    {
     "data": {
      "image/png": "[encoded data removed]",
      "text/plain": [
       "<Figure size 361.2x78.26 with 1 Axes>"
      ]
     },
     "execution_count": 9,
     "metadata": {
      "image/png": {
       "height": 73,
       "width": 287
      }
     },
     "output_type": "execute_result"
    }
   ],
   "source": [
    "# 1 qubitの量子レジスターを生成する\n",
    "q = QuantumRegister(1, 'q')\n",
    "\n",
    "# q レジスターに作用する量子回路を生成する\n",
    "circ = QuantumCircuit(q)\n",
    "\n",
    "# qubit 0 に Z ゲートを追加する。\n",
    "circ.z(q[0])\n",
    "# qubit 0 に S ゲートを追加する。\n",
    "circ.s(q[0])\n",
    "# qubit 0 に T ゲートを追加する。\n",
    "circ.t(q[0])\n",
    "\n",
    "# Matplotlib で描画する\n",
    "circ.draw(output='mpl')"
   ]
  },
  {
   "cell_type": "markdown",
   "metadata": {},
   "source": [
    "\n",
    "## ゲートをParallelに並べて回路を構成する <a id='parallel_gates'></a>\n"
   ]
  },
  {
   "cell_type": "markdown",
   "metadata": {},
   "source": [
    "### 量子ゲート $X$ を二つParallelに並べて回路を構成する"
   ]
  },
  {
   "cell_type": "code",
   "execution_count": 10,
   "metadata": {
    "ExecuteTime": {
     "end_time": "2018-09-29T00:04:26.904758Z",
     "start_time": "2018-09-29T00:04:25.509141Z"
    },
    "scrolled": false
   },
   "outputs": [
    {
     "data": {
      "image/png": "[encoded data removed]",
      "text/plain": [
       "<Figure size 240.8x138.46 with 1 Axes>"
      ]
     },
     "execution_count": 10,
     "metadata": {
      "image/png": {
       "height": 118,
       "width": 196
      }
     },
     "output_type": "execute_result"
    }
   ],
   "source": [
    "# 2 qubitの量子レジスターを生成する\n",
    "q = QuantumRegister(2, 'q')\n",
    "\n",
    "# q レジスターに作用する量子回路を生成する\n",
    "circ = QuantumCircuit(q)\n",
    "\n",
    "# qubit 0 に X ゲートを追加する。\n",
    "circ.x(q[0])\n",
    "# qubit 1に X ゲートを追加する。\n",
    "circ.x(q[1])\n",
    "\n",
    "# Matplotlib で描画する\n",
    "circ.draw(output='mpl')"
   ]
  },
  {
   "cell_type": "markdown",
   "metadata": {},
   "source": [
    "<div class=\"alert alert-block alert-info\">\n",
    "\n",
    "この回路図では、qubit 0に対応するレジスターq[0]がトップに、qubit 1に対応するレジスターq[1]がその下に描かれる。\n",
    "\n",
    "この回路は、左から右に読まれる。すなわち、最初に適用されるゲートが左側に置かれる。\n",
    "</div>"
   ]
  },
  {
   "cell_type": "markdown",
   "metadata": {},
   "source": [
    "### 量子ゲート $H$ を二つParallelに並べて回路を構成する"
   ]
  },
  {
   "cell_type": "code",
   "execution_count": 11,
   "metadata": {
    "ExecuteTime": {
     "end_time": "2018-09-29T00:04:26.904758Z",
     "start_time": "2018-09-29T00:04:25.509141Z"
    },
    "scrolled": true
   },
   "outputs": [
    {
     "data": {
      "image/png": "[encoded data removed]",
      "text/plain": [
       "<Figure size 240.8x138.46 with 1 Axes>"
      ]
     },
     "execution_count": 11,
     "metadata": {
      "image/png": {
       "height": 118,
       "width": 196
      }
     },
     "output_type": "execute_result"
    }
   ],
   "source": [
    "# 2 qubitの量子レジスターを生成する\n",
    "q = QuantumRegister(2, 'q')\n",
    "\n",
    "# q レジスターに作用する量子回路を生成する\n",
    "circ = QuantumCircuit(q)\n",
    "\n",
    "# qubit 0 に H ゲートを追加する。\n",
    "circ.h(q[0])\n",
    "# qubit 1に H ゲートを追加する。\n",
    "circ.h(q[1])\n",
    "\n",
    "# Matplotlib で描画する\n",
    "circ.draw(output='mpl')"
   ]
  },
  {
   "cell_type": "markdown",
   "metadata": {},
   "source": [
    "### 量子ゲート $H$ を三つParallelに並べて回路を構成する"
   ]
  },
  {
   "cell_type": "code",
   "execution_count": 12,
   "metadata": {
    "ExecuteTime": {
     "end_time": "2018-09-29T00:04:26.904758Z",
     "start_time": "2018-09-29T00:04:25.509141Z"
    },
    "scrolled": true
   },
   "outputs": [
    {
     "data": {
      "image/png": "[encoded data removed]",
      "text/plain": [
       "<Figure size 240.8x198.66 with 1 Axes>"
      ]
     },
     "execution_count": 12,
     "metadata": {
      "image/png": {
       "height": 164,
       "width": 196
      }
     },
     "output_type": "execute_result"
    }
   ],
   "source": [
    "# 3 qubitの量子レジスターを生成する\n",
    "q = QuantumRegister(3, 'q')\n",
    "\n",
    "# q レジスターに作用する量子回路を生成する\n",
    "circ = QuantumCircuit(q)\n",
    "\n",
    "# qubit 0 に H ゲートを追加する。\n",
    "circ.h(q[0])\n",
    "# qubit 1に H ゲートを追加する。\n",
    "circ.h(q[1])\n",
    "# qubit 1に H ゲートを追加する。\n",
    "circ.h(q[2])\n",
    "\n",
    "# Matplotlib で描画する\n",
    "circ.draw(output='mpl')"
   ]
  },
  {
   "cell_type": "markdown",
   "metadata": {},
   "source": [
    "\n",
    "## コントロール・ゲート回路を構成する <a id='control_gates'></a>\n"
   ]
  },
  {
   "cell_type": "markdown",
   "metadata": {},
   "source": [
    "### CNOT 回路を構成する"
   ]
  },
  {
   "cell_type": "code",
   "execution_count": 13,
   "metadata": {
    "ExecuteTime": {
     "end_time": "2018-09-29T00:04:26.904758Z",
     "start_time": "2018-09-29T00:04:25.509141Z"
    },
    "scrolled": true
   },
   "outputs": [
    {
     "data": {
      "image/png": "[encoded data removed]",
      "text/plain": [
       "<Figure size 240.8x138.46 with 1 Axes>"
      ]
     },
     "execution_count": 13,
     "metadata": {
      "image/png": {
       "height": 118,
       "width": 196
      }
     },
     "output_type": "execute_result"
    }
   ],
   "source": [
    "# 2 qubitの量子レジスターを生成する\n",
    "q = QuantumRegister(2, 'q')\n",
    "\n",
    "# q レジスターに作用する量子回路を生成する\n",
    "circ = QuantumCircuit(q)\n",
    "\n",
    "# qubit 1に CNOTゲート(コントロールX)を追加する。\n",
    "circ.cx(q[0], q[1])\n",
    "\n",
    "# Matplotlib で描画する\n",
    "circ.draw(output='mpl')"
   ]
  },
  {
   "cell_type": "markdown",
   "metadata": {},
   "source": [
    "### コントロール $H$ 回路を構成する"
   ]
  },
  {
   "cell_type": "code",
   "execution_count": 14,
   "metadata": {
    "ExecuteTime": {
     "end_time": "2018-09-29T00:04:26.904758Z",
     "start_time": "2018-09-29T00:04:25.509141Z"
    },
    "scrolled": true
   },
   "outputs": [
    {
     "data": {
      "image/png": "[encoded data removed]",
      "text/plain": [
       "<Figure size 240.8x138.46 with 1 Axes>"
      ]
     },
     "execution_count": 14,
     "metadata": {
      "image/png": {
       "height": 118,
       "width": 196
      }
     },
     "output_type": "execute_result"
    }
   ],
   "source": [
    "# 2 qubitの量子レジスターを生成する\n",
    "q = QuantumRegister(2, 'q')\n",
    "\n",
    "# q レジスターに作用する量子回路を生成する\n",
    "circ = QuantumCircuit(q)\n",
    "\n",
    "# qubit 1に コントロール Z追加する。\n",
    "circ.ch(q[0], q[1])\n",
    "\n",
    "# Matplotlib で描画する\n",
    "circ.draw(output='mpl')"
   ]
  },
  {
   "cell_type": "markdown",
   "metadata": {},
   "source": [
    "### 二つのCNOT からなる回路を構成する"
   ]
  },
  {
   "cell_type": "code",
   "execution_count": 15,
   "metadata": {
    "ExecuteTime": {
     "end_time": "2018-09-29T00:04:26.904758Z",
     "start_time": "2018-09-29T00:04:25.509141Z"
    },
    "scrolled": true
   },
   "outputs": [
    {
     "data": {
      "image/png": "[encoded data removed]",
      "text/plain": [
       "<Figure size 301x138.46 with 1 Axes>"
      ]
     },
     "execution_count": 15,
     "metadata": {
      "image/png": {
       "height": 118,
       "width": 241
      }
     },
     "output_type": "execute_result"
    }
   ],
   "source": [
    "# 2 qubitの量子レジスターを生成する\n",
    "q = QuantumRegister(2, 'q')\n",
    "\n",
    "# q レジスターに作用する量子回路を生成する\n",
    "circ = QuantumCircuit(q)\n",
    "\n",
    "# qubit 1に CNOTゲート(コントロールX)を追加する。\n",
    "circ.cx(q[0], q[1])\n",
    "# qubit 0に CNOTゲート(コントロールX)を追加する。\n",
    "circ.cx(q[1], q[0])\n",
    "\n",
    "# Matplotlib で描画する\n",
    "circ.draw(output='mpl')"
   ]
  },
  {
   "cell_type": "markdown",
   "metadata": {},
   "source": [
    "\n",
    "## ゲートをSerial, Parallelに並べて回路を構成する <a id='serial_parallel_gates'></a>\n"
   ]
  },
  {
   "cell_type": "markdown",
   "metadata": {},
   "source": [
    "### CNOTゲート |01> を構成する"
   ]
  },
  {
   "cell_type": "markdown",
   "metadata": {},
   "source": [
    "<div class=\"alert alert-block alert-info\">\n",
    "\n",
    "- #### 量子回路の各レジスターの入力値はデフォールトで $|0\\rangle$ に定まっている。\n",
    "- #### 意外に思うかもしれないが、任意の入力値を量子回路に与えることは、必ずしも容易ではない。\n",
    "- #### ただし、入力の値を$|0\\rangle$ から$|1\\rangle$ に変えることは簡単にできる。qubitを反転させ、$|0\\rangle$ を$|1\\rangle$に変える Xゲートを、レジスターの先頭に挿入すれば良い。 \n",
    "</div>"
   ]
  },
  {
   "cell_type": "code",
   "execution_count": 16,
   "metadata": {
    "ExecuteTime": {
     "end_time": "2018-09-29T00:04:20.807281Z",
     "start_time": "2018-09-29T00:04:20.796420Z"
    },
    "scrolled": true
   },
   "outputs": [
    {
     "data": {
      "image/png": "[encoded data removed]",
      "text/plain": [
       "<Figure size 301x138.46 with 1 Axes>"
      ]
     },
     "execution_count": 16,
     "metadata": {
      "image/png": {
       "height": 118,
       "width": 241
      }
     },
     "output_type": "execute_result"
    }
   ],
   "source": [
    "# 2 qubitの量子レジスターを生成する\n",
    "q = QuantumRegister(2, 'q')\n",
    "\n",
    "# q レジスターに作用する量子回路を生成する\n",
    "cnot01 = QuantumCircuit(q)\n",
    "\n",
    "# qubit 1 にX ゲートを追加する\n",
    "cnot01.x(q[1])\n",
    "# qubit 1 に CNOTゲートを追加する。\n",
    "cnot01.cx(q[0],q[1])\n",
    "\n",
    "cnot01.draw(output='mpl')"
   ]
  },
  {
   "cell_type": "markdown",
   "metadata": {},
   "source": [
    "### CNOTゲート |10> を構成する"
   ]
  },
  {
   "cell_type": "code",
   "execution_count": 17,
   "metadata": {
    "ExecuteTime": {
     "end_time": "2018-09-29T00:04:20.807281Z",
     "start_time": "2018-09-29T00:04:20.796420Z"
    },
    "scrolled": true
   },
   "outputs": [
    {
     "data": {
      "image/png": "[encoded data removed]",
      "text/plain": [
       "<Figure size 301x138.46 with 1 Axes>"
      ]
     },
     "execution_count": 17,
     "metadata": {
      "image/png": {
       "height": 118,
       "width": 241
      }
     },
     "output_type": "execute_result"
    }
   ],
   "source": [
    "# 2 qubitの量子レジスターを生成する\n",
    "q = QuantumRegister(2, 'q')\n",
    "\n",
    "# q レジスターに作用する量子回路を生成する\n",
    "cnot10 = QuantumCircuit(q)\n",
    "\n",
    "# qubit ０ にX ゲートを追加する\n",
    "cnot10.x(q[0])\n",
    "# qubit 1 に CNOTゲートを追加する。\n",
    "cnot10.cx(q[0],q[1])\n",
    "\n",
    "#drawing the circuit\n",
    "cnot10.draw(output='mpl')"
   ]
  },
  {
   "cell_type": "markdown",
   "metadata": {},
   "source": [
    "## 演習問題　<a id='exercises'></a>"
   ]
  },
  {
   "cell_type": "markdown",
   "metadata": {},
   "source": [
    "### 1. 次の回路図を構成せよ\n",
    "\n",
    "<img src=\"./images/circuit/BellStateGate.png\"  width=\"300 px\" align=\"center\">"
   ]
  },
  {
   "cell_type": "code",
   "execution_count": null,
   "metadata": {},
   "outputs": [],
   "source": []
  },
  {
   "cell_type": "markdown",
   "metadata": {},
   "source": [
    "### 2. 次の回路図を構成せよ\n",
    "\n",
    "<img src=\"./images/circuit/BSG11.png\"  width=\"350 px\" align=\"center\">"
   ]
  },
  {
   "cell_type": "code",
   "execution_count": null,
   "metadata": {},
   "outputs": [],
   "source": []
  },
  {
   "cell_type": "markdown",
   "metadata": {},
   "source": [
    "### 3. 次の回路図を構成せよ\n",
    "\n",
    "<img src=\"./images/circuit/GHZGate.png\"  width=\"350 px\" align=\"center\">"
   ]
  },
  {
   "cell_type": "markdown",
   "metadata": {},
   "source": [
    "\n",
    "### 　　　　　　　　[前の章へ](./1_basic.ipynb)　[全体目次](./Contents.ipynb)　 [次の章へ](./3_simulation.ipynb)"
   ]
  },
  {
   "cell_type": "code",
   "execution_count": null,
   "metadata": {},
   "outputs": [],
   "source": []
  },
  {
   "cell_type": "code",
   "execution_count": null,
   "metadata": {},
   "outputs": [],
   "source": []
  }
 ],
 "metadata": {
  "anaconda-cloud": {},
  "kernelspec": {
   "display_name": "Python 3",
   "language": "python",
   "name": "python3"
  },
  "language_info": {
   "codemirror_mode": {
    "name": "ipython",
    "version": 3
   },
   "file_extension": ".py",
   "mimetype": "text/x-python",
   "name": "python",
   "nbconvert_exporter": "python",
   "pygments_lexer": "ipython3",
   "version": "3.7.2"
  }
 },
 "nbformat": 4,
 "nbformat_minor": 1
}
