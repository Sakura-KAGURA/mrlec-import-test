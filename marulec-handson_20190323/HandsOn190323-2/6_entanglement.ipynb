{
 "cells": [
  {
   "cell_type": "markdown",
   "metadata": {},
   "source": [
    "<img src=\"./images/Logo1.png\" alt=\"Note: In order for images to show up in this jupyter notebook you need to select File => Trusted Notebook\" width=\"700 px\" align=\"center\">"
   ]
  },
  {
   "cell_type": "markdown",
   "metadata": {},
   "source": [
    "# 第六章　エンタングルメント \n",
    "<a id='a1'></a>\n",
    "\n",
    "**本章の内容**　　　　　[全体目次](./Contents.ipynb)\n",
    "- [第六章　エンタングルメント](#a1)\n",
    "- [EPRペア -- もつれあった二つの量子](#a2)\n",
    "  - [EPRペアの不思議](#a3)\n",
    "  - [2 qubit システムの「部分的観測」](#a4)\n",
    "  - [エンタングルメントの発見とアインシュタイン](#a5)\n",
    "- [Bell State](#a6) \n",
    "  - [演習問題 1](#a7)\n",
    "- [Bell State ゲート](#a8)\n",
    "  - [演習問題 2](#a9)\n",
    "- [Bell State ゲートの出力を計算する](#a10)\n",
    "  - [演習問題 3](#a11)\n",
    "\n",
    "\n",
    "ある状態$|\\Psi \\rangle$ が、$|\\Psi \\rangle =|\\phi_1\\rangle\\otimes |\\phi_2\\rangle$のように二つの状態$|\\phi_1\\rangleと |\\phi_2\\rangle$のテンソル積の形で表せない時、状態$|\\Psi\\rangle$ は、「エンタングルした状態」「もつれ合った状態」にあるという。\n",
    "\n",
    "次の2 qubitの状態を考えよう。$\\frac{1}{\\sqrt{2}}(|00\\rangle+|11\\rangle)$ \n",
    "\n",
    "この状態は、二つのqubitのテンソル積では表現できないことが、次のようにしてわかる。\n",
    "\n",
    "$\\frac{1}{\\sqrt{2}}(|00\\rangle+|11\\rangle)$  が、$(a|0\\rangle+b|1\\rangle)\\otimes(c|0\\rangle+d|1\\rangle)$と二つの状態のテンソル積に分解できたとしよう。\n",
    "この時、\n",
    "$(a|0\\rangle+b|1\\rangle)\\otimes(c|0\\rangle+d|1\\rangle) = ac|00\\rangle+ad|01\\rangle+bc|10\\rangle+bd|11\\rangle$\n",
    "\n",
    "両辺の係数を比較すると、$ad=bc=0$となって、$ac=bd=\\frac{1}{\\sqrt{2}}$  となる $a,b,c,d$ が存在しないことがわかる。\n",
    "よって、$\\frac{1}{\\sqrt{2}}(|00\\rangle+|11\\rangle)$  は、$(a|0\\rangle+b|1\\rangle)\\otimes(c|0\\rangle+d|1\\rangle)$のように、二つの状態のテンソル積に分解できない。\n",
    "$\\frac{1}{\\sqrt{2}}(|00\\rangle+|11\\rangle)$  は、エンタングルしている状態にある。\n",
    "\n",
    "念の為であるが、すべての2 qubitの状態が、エンタングルしているわけではない。例えば状態$|00\\rangle+|01\\rangle+|10\\rangle+|11\\rangle$は、$(|0\\rangle +|1\\rangle) \\otimes |0\\rangle +|1\\rangle)$と、二つの状態$|0\\rangle +|1\\rangleと|0\\rangle +|1\\rangle$のテンソル積の形に分解できる。"
   ]
  },
  {
   "cell_type": "markdown",
   "metadata": {},
   "source": [
    "## EPRペア -- もつれあった二つの量子 <a id='a2'></a>\n",
    "\n",
    "エンタングルメントを最初に発見したのはアインシュタインである。1935年のことである。もつれあった二つの量子を、この現象の発見者(Einstein, Podolsky, Rosen)の頭文字をとって**EPRペア** と呼ぶことがある。\n",
    "\n",
    "二つの量子の状態のテンソル積で表される状態を示す式を、二つの量子の状態を表す式を一つにまとめた式だと理解することはやさしい。ところが、EPRペアの状態は**一つの式**で表される。それにもかかわらず、それは二つの量子の状態、すなわち、からみあった二つの量子の状態を表しているのである。\n",
    "\n",
    "次の図は、一つの式の中の赤い字で表される状態の量子をAliceが、青い字で表される状態の量子をBobが持っていることを表している。\n",
    "<img src=\"./images/entangle/EPR1.png\" alt=\"Note: In order for images to show up in this jupyter notebook you need to select File => Trusted Notebook\" width=\"550 px\" align=\"center\">\n",
    "\n",
    "興味ふかいのは、こうしたからみあった二つの量子の関係は、二つの量子の間の距離には関係のない性質だということである。この関係は、二つの量子が、たとえ銀河を隔てて何万光年離れたとしても、からみあいはそのまま維持されるのである。\n",
    "<img src=\"./images/entangle/EPR2.png\" alt=\"Note: In order for images to show up in this jupyter notebook you need to select File => Trusted Notebook\" width=\"550 px\" align=\"center\">"
   ]
  },
  {
   "cell_type": "markdown",
   "metadata": {},
   "source": [
    "## EPRペアの不思議 <a id='a3'></a>\n",
    "\n",
    "こうしたERPペアが不思議な性質を持つことは、この状態にあるペアを観測してみればわかる。\n",
    "その前に、二つ（以上の）量子から構成されるシステムの「部分的観測」について基本的な考えをまとめておこう。\n",
    "\n",
    "### 2 qubit システムの「部分的観測」<a id='a4'></a>\n",
    "$|\\psi\\rangle=\\alpha_{00}|00\\rangle+\\alpha_{01}|01\\rangle+\\alpha_{10}|10\\rangle+\\alpha_{11}|11\\rangle$という状態で表される 2 qubitのシステムで、で、最初の1ビットのみを観測して、それが0である確率は、どう計算されるだろうか？!\n",
    "\n",
    "次のように考える。\u000b",
    "\n",
    "$$Pr\\{first\\  bit =0\\}=Pr\\{|00\\rangle\\}+Pr\\{|01\\rangle\\}=|\\alpha_{00}|^2+|\\alpha_{01}|^2$$\n",
    "\n",
    "それでは、このとき、2-qubitsのシステムの状態は、どういう状態になるのだろうか？　それは、この観測に矛盾する全ての項（最初のビットが1の項）を消して、残った項の重ね合わせの状態になる。ただし、それが、単位ベクトルになるように正規化されねばならない。\n",
    "\n",
    "新しい状態は、次のようになる。\u000b",
    "\n",
    "$$\\frac{\\alpha_{00}|00\\rangle+\\alpha_{01}|01\\rangle}{\\sqrt{|\\alpha_{00}|^2+|\\alpha_{01}|^2}}$$"
   ]
  },
  {
   "cell_type": "markdown",
   "metadata": {},
   "source": [
    "### Aliceが$\\frac{1}{\\sqrt{2}}(|00\\rangle+|11\\rangle)$を観測する\n",
    "Aliceが自分の持つEPRペア、1/√2 (|00>+|11>)の最初のビットを観測したとしよう。それが1である確率は1/2で、0である確率は1/2である。\n",
    "\n",
    "今、その結果が0であったとしよう。この観測の結果、新しい状態は、$|00\\rangle$に変わる。それは、第二ビットの観測が、0である確率が 1 であることを意味する。100% の確率で、Bobの持つ第二ビットの状態が0であることがわかる。\n",
    "\n",
    "**すなわち、Aliceが自分のqubitで状態0を観測するとすぐに、遠く離れたBobの持つqubitの状態が0であることがわかることになる。**\n",
    "\n",
    "最初の観測結果が1であったとしても、今度は、新しい状態が、$|11\\rangle$になるので、第二ビットの観察は、100%の確率で、1を返すことになる。\n",
    "\n",
    "**AliceとBobが、どんなに離れていても、Aliceが自分の量子を観測した瞬間に、エンタングル状態は解けて、遠く離れたBobの観測結果が、瞬時に確実にわかるのである。これは、遠く離れたBobの持つ情報が、瞬時にAliceに伝わるように見える。これは、「情報は、光の速さ以上のスピードでが伝わらない」という相対論の要請と矛盾しないか？**"
   ]
  },
  {
   "cell_type": "markdown",
   "metadata": {},
   "source": [
    "### エンタングルメントの発見とアインシュタイン <a id='a5'></a>\n",
    "実際、エンタングルメントを最初に発見したアインシュタインは、これを「馬鹿げた遠隔作用」と呼んで、量子論が不完全な理論であることの根拠にした。アインシュタインは、量子論は、実在について「隠れた変数」を見落としているので、こうした奇妙な矛盾した状態が生まれることになると主張した。エンタングルメントは、当初は、「EPRパラドックス」と呼ばれていた。\n",
    "\n",
    "しかし、1964年、ベルは、アインシュタインの「隠れた変数」理論が、成り立たないことを理論的に証明し、1982年には、アスペが、ベルの理論が正しいことを大規模な実験的で証明し、「EPRパラドックス」は解決された。"
   ]
  },
  {
   "cell_type": "markdown",
   "metadata": {},
   "source": [
    "## Bell State <a id='a6'></a>\n",
    "\n",
    "このエンタングルした2 qubitの状態ベクトル $\\frac{1}{\\sqrt{2}}(|00\\rangle+|11\\rangle)$を、発見者のBellの名前をとって、**Bell State** と呼ぶ。Bell Stateは、単純だが、典型的なエンタングル状態を与えている。\n",
    "\n",
    "この状態を含めて、次の4つの状態が **Bell State** と呼ばれる。\n",
    "\n",
    "<img src=\"./images/entangle/BS1.png\" alt=\"Note: In order for images to show up in this jupyter notebook you need to select File => Trusted Notebook\" width=\"550 px\" align=\"center\">\n",
    "<img src=\"./images/entangle/BS2.png\" alt=\"Note: In order for images to show up in this jupyter notebook you need to select File => Trusted Notebook\" width=\"550 px\" align=\"center\">\n",
    "<img src=\"./images/entangle/BS3.png\" alt=\"Note: In order for images to show up in this jupyter notebook you need to select File => Trusted Notebook\" width=\"550 px\" align=\"center\">\n",
    "<img src=\"./images/entangle/BS4.png\" alt=\"Note: In order for images to show up in this jupyter notebook you need to select File => Trusted Notebook\" width=\"550 px\" align=\"center\">"
   ]
  },
  {
   "cell_type": "markdown",
   "metadata": {},
   "source": [
    "## 演習問題 1 <a id='a7'></a>\n",
    "\n",
    "### 上の四つのBell State $|\\Psi^+\\rangle, |\\Psi^-\\rangle, |\\Phi^+\\rangle,|\\Phi^-\\rangle$について、Aliceの持つ量子の第一ビットの観測が、Bobの持つ量子についてどのような情報をもたらすか考えよ。"
   ]
  },
  {
   "cell_type": "markdown",
   "metadata": {},
   "source": [
    "\n",
    "## Bell State ゲート <a id='a8'></a>\n",
    "\n",
    "Bell Stateは、特殊なものではない。次の二つの量子ゲート $H$ と$CNOT$からなる簡単な回路で、Bell Stateを生み出すことができる。この回路を、**Bell State ゲート**と呼ぶ。\n"
   ]
  },
  {
   "cell_type": "code",
   "execution_count": 1,
   "metadata": {},
   "outputs": [],
   "source": [
    "%matplotlib inline\n",
    "%config InlineBackend.figure_formats = {'png', 'retina'}\n",
    "\n",
    "import numpy as np\n",
    "from qiskit import QuantumCircuit, ClassicalRegister, QuantumRegister\n",
    "from qiskit import execute\n",
    "\n",
    "# Import Aer\n",
    "from qiskit import BasicAer"
   ]
  },
  {
   "cell_type": "markdown",
   "metadata": {},
   "source": [
    "### Bell State ゲートを構成する"
   ]
  },
  {
   "cell_type": "code",
   "execution_count": 2,
   "metadata": {},
   "outputs": [
    {
     "data": {
      "image/png": "[encoded data removed]",
      "text/plain": [
       "<Figure size 301x138.46 with 1 Axes>"
      ]
     },
     "execution_count": 2,
     "metadata": {
      "image/png": {
       "height": 118,
       "width": 241
      }
     },
     "output_type": "execute_result"
    }
   ],
   "source": [
    "# 2 qubitの量子レジスターを生成する\n",
    "q = QuantumRegister(2, 'q')\n",
    "\n",
    "# q レジスターに作用する量子回路を生成する\n",
    "BSG = QuantumCircuit(q)\n",
    "\n",
    "# qubit ０ にH ゲートを追加する\n",
    "BSG.h(q[0])\n",
    "# qubit 1 に CNOTゲートを追加する。\n",
    "BSG.cx(q[0],q[1])\n",
    "\n",
    "#drawing the circuit\n",
    "BSG.draw(output='mpl')"
   ]
  },
  {
   "cell_type": "markdown",
   "metadata": {},
   "source": [
    "### Bell State ゲートの入力$|00\\rangle$に対する出力ベクトルをシミュレートする"
   ]
  },
  {
   "cell_type": "code",
   "execution_count": 3,
   "metadata": {},
   "outputs": [
    {
     "name": "stdout",
     "output_type": "stream",
     "text": [
      "[0.707+0.j 0.   +0.j 0.   +0.j 0.707+0.j]\n"
     ]
    }
   ],
   "source": [
    "# 構成した回路を、状態ベクトル・シミュレータ上でバックエンドで走らせる\n",
    "backend = BasicAer.get_backend('statevector_simulator')\n",
    "\n",
    "# 実行用のプログラムを生成する\n",
    "job = execute(BSG, backend)\n",
    "\n",
    "result = job.result()\n",
    "\n",
    "outputstate = result.get_statevector(BSG, decimals=3)\n",
    "print(outputstate)"
   ]
  },
  {
   "cell_type": "markdown",
   "metadata": {},
   "source": [
    "<div class=\"alert alert-block alert-info\">\n",
    "    この出力は、$\\frac{1}{\\sqrt {2}}\\left( \\begin{array}{c} 1\\\\ 0 \\\\ 0 \\\\1 \\end{array} \\right)$のように見える。\n",
    "    $\\left( \\begin{array}{c} 1\\\\ 0 \\\\ 0 \\\\1 \\end{array} \\right)=\\left( \\begin{array}{c} 1\\\\ 0 \\\\ 0 \\\\0 \\end{array} \\right)+\\left( \\begin{array}{c} 0\\\\ 0 \\\\ 0 \\\\1 \\end{array} \\right)=|00\\rangle+|11\\rangle$　だから、\n",
    "    \n",
    " $BellStateGate |00\\rangle =\\frac{1}{\\sqrt {2}}（ |00\\rangle+|11\\rangle）$ のように見えるということだ。\n",
    "</div>"
   ]
  },
  {
   "cell_type": "markdown",
   "metadata": {},
   "source": [
    "この推測が正しいことは、次のような計算で確かめることができる。\n",
    "\n",
    "<img src=\"./images/BSG00-1.png\" alt=\"Note: In order for images to show up in this jupyter notebook you need to select File => Trusted Notebook\" width=\"550 px\" align=\"center\">\n",
    "\n",
    "<img src=\"./images/BSG00-2.png\" alt=\"Note: In order for images to show up in this jupyter notebook you need to select File => Trusted Notebook\" width=\"550 px\" align=\"center\">"
   ]
  },
  {
   "cell_type": "markdown",
   "metadata": {},
   "source": [
    "## 演習問題 2 <a id='a9'></a>\n",
    "\n",
    "### 回路を構成して、出力ベクトルの値をシミューレートすることで、BellStateGate $|10\\rangle$ ,BellStateGate $|01\\rangle$ ,BellStateGate $|11\\rangle$の出力を予想せよ。"
   ]
  },
  {
   "cell_type": "markdown",
   "metadata": {},
   "source": [
    "## Bell State ゲートの出力を計算する <a id='a10'></a>\n",
    "Bell Stateゲートの働きは、行列をつかわなくても、次のように簡単に計算することができる。\n",
    "\n",
    "<img src=\"./images/entangle/BSG1.png\" alt=\"Note: In order for images to show up in this jupyter notebook you need to select File => Trusted Notebook\" width=\"550 px\" align=\"center\">\n",
    "<img src=\"./images/entangle/BSG2.png\" alt=\"Note: In order for images to show up in this jupyter notebook you need to select File => Trusted Notebook\" width=\"550 px\" align=\"center\">"
   ]
  },
  {
   "cell_type": "markdown",
   "metadata": {},
   "source": [
    "## 演習問題 3 <a id='a11'></a>\n",
    "\n",
    "### 先のスタイルで、BellStateGate $|10\\rangle$ ,BellStateGate $|01\\rangle$ ,BellStateGate $|11\\rangle$の出力を計算せよ。"
   ]
  },
  {
   "cell_type": "markdown",
   "metadata": {},
   "source": [
    "　\n",
    "### 　　　　　　　　[前の章へ](./5_ibm_q.ipynb)　[全体目次](./Contents.ipynb)　 [次の章へ](./7_teleportation.ipynb)"
   ]
  },
  {
   "cell_type": "code",
   "execution_count": null,
   "metadata": {},
   "outputs": [],
   "source": []
  }
 ],
 "metadata": {
  "kernelspec": {
   "display_name": "Python 3",
   "language": "python",
   "name": "python3"
  },
  "language_info": {
   "codemirror_mode": {
    "name": "ipython",
    "version": 3
   },
   "file_extension": ".py",
   "mimetype": "text/x-python",
   "name": "python",
   "nbconvert_exporter": "python",
   "pygments_lexer": "ipython3",
   "version": "3.7.2"
  }
 },
 "nbformat": 4,
 "nbformat_minor": 2
}
