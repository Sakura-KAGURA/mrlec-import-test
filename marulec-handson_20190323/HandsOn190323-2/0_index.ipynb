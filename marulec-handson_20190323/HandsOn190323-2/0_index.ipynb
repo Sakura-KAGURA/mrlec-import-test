{
 "cells": [
  {
   "cell_type": "markdown",
   "metadata": {},
   "source": [
    "<img src=\"./images/Logo1.png\" alt=\"Note: In order for images to show up in this jupyter notebook you need to select File => Trusted Notebook\" width=\"700 px\" align=\"center\">"
   ]
  },
  {
   "cell_type": "markdown",
   "metadata": {},
   "source": [
    "# ハンズオン環境設定\n",
    "\n",
    "## Anacondaを使ったQiskitのセットアップ\n",
    "\n",
    "Anacondaを使ってQiskit用の仮想環境を作り、必要なパッケージをインストールします。\n",
    "\n",
    "- SageMakerにはすでにAnacondaがセットアップされているため、Anacondaのセットアップは省略します。\n",
    "- QiskitはPython 3.5以降しか対応していないので、Python 3を使用します。\n",
    "\n",
    "<div class=\"alert alert-block alert-info\">\n",
    "もしご自身のPCで環境を構築したい場合は、事前にAnacondaをインストールすれば同じように環境構築ができます。Anacondaのダウンロードは<a href=\"https://www.anaconda.com/distribution/\" target=\"_blank\">こちら</a>（Windows、Mac、Linux用のインストーラがダウンロードできます）\n",
    "</div>"
   ]
  },
  {
   "cell_type": "markdown",
   "metadata": {},
   "source": [
    "### ターミナルを開く\n",
    "\n",
    "Jupyterのツリー画面から、「**New**」>「**Terminal**」を開いてください。\n",
    "\n",
    "![](images/setup/0_1.png)"
   ]
  },
  {
   "cell_type": "markdown",
   "metadata": {},
   "source": [
    "### Anaconda仮想環境を作りQisKitをインストールする\n",
    "\n",
    "以下のコマンドをコピーアンドペーストで実行します。\n",
    "\n",
    "```sh\n",
    "# Python3 \"qiskit\"という名前の仮想環境を作ります。\n",
    "conda create -y -n qiskit python=3\n",
    "\n",
    "# 仮想環境をアクティベートします。\n",
    "source activate qiskit\n",
    "\n",
    "# QisKitをインストールします。\n",
    "pip install qiskit[visualization] qiskit-aqua\n",
    "\n",
    "# セミナーで使う他のパッケージをインストールします。\n",
    "pip install matplotlib ipywidgets\n",
    "\n",
    "# Jupyterで使用するためにIPythonカーネルを作成します。\n",
    "conda install -y notebook ipykernel\n",
    "ipython kernel install --user --name=qiskit --display-name=\"Qiskit\"\n",
    "\n",
    "# もし仮想環境を削除する場合は以下のコマンドを使用します。\n",
    "#conda deactivate\n",
    "#conda remove -y -n qiskit --all\n",
    "```"
   ]
  },
  {
   "cell_type": "markdown",
   "metadata": {},
   "source": [
    "### カーネルを変更する\n",
    "\n",
    "実行が完了したら、**このノートブックを開いているブラウザのページをリロードしてください。**\n",
    "\n",
    "そして、「**QisKit**」という名前のカーネルが追加されていることを確認し、選択してください。\n",
    "\n",
    "![](images/setup/0_2.png)\n",
    "\n",
    "上部ツールバー右が「**QisKit**」に変わっていることを確認してください。\n",
    "\n",
    "![](images/setup/0_3.png)"
   ]
  },
  {
   "cell_type": "markdown",
   "metadata": {},
   "source": [
    "### 正常にインストールされていることを確認する\n",
    "\n",
    "以下のセルを実行し、エラーなくバージョンが表示されることを確認してください。"
   ]
  },
  {
   "cell_type": "code",
   "execution_count": 1,
   "metadata": {},
   "outputs": [
    {
     "name": "stdout",
     "output_type": "stream",
     "text": [
      "0.7.1\n"
     ]
    }
   ],
   "source": [
    "import qiskit\n",
    "print(qiskit.__version__)"
   ]
  },
  {
   "cell_type": "markdown",
   "metadata": {},
   "source": [
    "## IBM Qアカウントを準備する\n",
    "\n",
    "本セミナーではIBM社の提供する実機量子コンピュータ「**IBM Q**」を利用します。IBM Qは[いくつかのデバイス](https://www.research.ibm.com/ibm-q/technology/devices/)のうち一部を**パブリックデバイスとして誰でも利用できるように公開している**ため、これを利用します。\n",
    "\n",
    "料金は発生しませんが、アカウント登録と認証情報を得る必要があります。メールアドレスでの認証が必要です。\n",
    "\n",
    "IBM Q Experienceのページ（[こちら](https://quantumexperience.ng.bluemix.net/qx/community)）を別のタブで開き、「**Sign In**」>「**Sign Up**」を選択します。\n",
    "\n",
    "![](images/setup/0_4.png)\n",
    "![](images/setup/0_5.png)\n",
    "\n",
    "サインアップ画面でメールアドレス、パスワードなどをご入力いただき、ライセンスに同意します。メールアドレスに認証URLが送信されますので、そのURLを開くことで登録が完了します。繰り返しになりますが、IBM Q Experienceの利用で請求は発生しませんし、支払い情報などを登録する必要はありません。"
   ]
  },
  {
   "cell_type": "markdown",
   "metadata": {},
   "source": [
    "### サインインして認証情報を取得する\n",
    "\n",
    "登録が完了したら、サインインし、「**My Account**」を開きます。\n",
    "\n",
    "![](images/setup/0_6.png)\n",
    "\n",
    "「**Advanced**」タブの「**Regenerate**」を押し、APIキーを生成し、「**Copy API Token**」を押します。\n",
    "\n",
    "![](images/setup/0_7.png)"
   ]
  },
  {
   "cell_type": "markdown",
   "metadata": {},
   "source": [
    "### 認証情報を保存する\n",
    "\n",
    "後ほど実際にIBM QをQisKitから利用するために、認証情報を保存します。下セルの「ここにあなたのAPIキーをペーストします」の部分を削除し、先程コピーしたAPIキーを入力し、セルを実行してください。"
   ]
  },
  {
   "cell_type": "code",
   "execution_count": 2,
   "metadata": {},
   "outputs": [
    {
     "name": "stderr",
     "output_type": "stream",
     "text": [
      "/home/ec2-user/anaconda3/envs/qiskit/lib/python3.7/site-packages/qiskit/providers/ibmq/credentials/_configrc.py:129: UserWarning: Credentials already present. Set overwrite=True to overwrite.\n",
      "  warnings.warn('Credentials already present. Set overwrite=True to overwrite.')\n"
     ]
    }
   ],
   "source": [
    "from qiskit import IBMQ\n",
    "\n",
    "APIKEY = 'ここにあなたのAPIキーをペーストします'\n",
    "IBMQ.save_account(APIKEY)"
   ]
  },
  {
   "cell_type": "markdown",
   "metadata": {},
   "source": [
    "これで、ローカルストレージ上に認証情報が保存され、セットアップが完了しました。"
   ]
  },
  {
   "cell_type": "markdown",
   "metadata": {},
   "source": [
    "# [全体目次へ](./Contents.ipynb)\n",
    "<a id='contents'></a>\n",
    "\n",
    "[第一章　量子情報理論の基本原理](./1_basic.ipynb)\n",
    "\n",
    "[第二章　量子回路を構成する](./2_circuit.ipynb)\n",
    "\n",
    "[第三章　構成された回路はどのような働きをするのか？](./3_simulation.ipynb)\n",
    "\n",
    "[第四章　構成した回路を観測する](./4_measurement.ipynb)\n",
    "\n",
    "[第五章　IBM Qで量子プログラムを実行する](./5_ibm_q.ipynb)\n",
    "\n",
    "[第六章　エンタングルメント](./6_entanglement.ipynb)\n",
    "\n",
    "[第七章　量子テレポーテーション](./7_teleportation.ipynb)\n"
   ]
  },
  {
   "cell_type": "code",
   "execution_count": null,
   "metadata": {},
   "outputs": [],
   "source": []
  }
 ],
 "metadata": {
  "kernelspec": {
   "display_name": "Python 3",
   "language": "python",
   "name": "python3"
  },
  "language_info": {
   "codemirror_mode": {
    "name": "ipython",
    "version": 3
   },
   "file_extension": ".py",
   "mimetype": "text/x-python",
   "name": "python",
   "nbconvert_exporter": "python",
   "pygments_lexer": "ipython3",
   "version": "3.7.2"
  }
 },
 "nbformat": 4,
 "nbformat_minor": 2
}
